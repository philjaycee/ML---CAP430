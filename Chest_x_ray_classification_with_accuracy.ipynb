{
  "nbformat": 4,
  "nbformat_minor": 0,
  "metadata": {
    "colab": {
      "name": "Chest - x-ray-classification-with-accuracy.ipynb",
      "provenance": [],
      "collapsed_sections": [],
      "authorship_tag": "ABX9TyOObYBJ4Q5TTX82nXuWzY1c",
      "include_colab_link": true
    },
    "kernelspec": {
      "display_name": "Python 3",
      "name": "python3"
    },
    "language_info": {
      "name": "python"
    }
  },
  "cells": [
    {
      "cell_type": "markdown",
      "metadata": {
        "id": "view-in-github",
        "colab_type": "text"
      },
      "source": [
        "<a href=\"https://colab.research.google.com/github/philjaycee/ML---CAP430/blob/main/Chest_x_ray_classification_with_accuracy.ipynb\" target=\"_parent\"><img src=\"https://colab.research.google.com/assets/colab-badge.svg\" alt=\"Open In Colab\"/></a>"
      ]
    },
    {
      "cell_type": "code",
      "metadata": {
        "colab": {
          "background_save": true
        },
        "id": "9lb5lLljTzTi"
      },
      "source": [
        "import random \n",
        "import shutil\n",
        "import os\n",
        "import zipfile\n",
        "import seaborn as sns\n",
        "import numpy as np\n",
        "import pandas as pd\n",
        "import tensorflow as tf\n",
        "from shutil import copyfile\n",
        "from keras.preprocessing.image import ImageDataGenerator, load_img\n",
        "from tensorflow.keras.utils import to_categorical\n",
        "from sklearn.model_selection import train_test_split\n",
        "import matplotlib.pyplot as plt\n",
        "from sklearn.metrics import classification_report\n",
        "from sklearn.metrics import confusion_matrix\n",
        "from random import shuffle\n",
        "from keras.models import load_model\n",
        "from tensorflow.keras.applications.mobilenet_v2 import MobileNetV2"
      ],
      "execution_count": null,
      "outputs": []
    },
    {
      "cell_type": "code",
      "metadata": {
        "colab": {
          "base_uri": "https://localhost:8080/"
        },
        "id": "XbWhDc_CULtU",
        "outputId": "ad25c5c0-3cdd-4e24-ebf0-d8cf915d8163"
      },
      "source": [
        "!wget https://md-datasets-cache-zipfiles-prod.s3.eu-west-1.amazonaws.com/jctsfj2sfn-1.zip"
      ],
      "execution_count": null,
      "outputs": [
        {
          "output_type": "stream",
          "text": [
            "--2021-06-08 10:56:41--  https://md-datasets-cache-zipfiles-prod.s3.eu-west-1.amazonaws.com/jctsfj2sfn-1.zip\n",
            "Resolving md-datasets-cache-zipfiles-prod.s3.eu-west-1.amazonaws.com (md-datasets-cache-zipfiles-prod.s3.eu-west-1.amazonaws.com)... 52.218.112.96\n",
            "Connecting to md-datasets-cache-zipfiles-prod.s3.eu-west-1.amazonaws.com (md-datasets-cache-zipfiles-prod.s3.eu-west-1.amazonaws.com)|52.218.112.96|:443... connected.\n",
            "HTTP request sent, awaiting response... 200 OK\n",
            "Length: 1437762638 (1.3G) [application/octet-stream]\n",
            "Saving to: ‘jctsfj2sfn-1.zip.1’\n",
            "\n",
            "jctsfj2sfn-1.zip.1    3%[                    ]  44.97M  13.2MB/s    eta 1m 46s "
          ],
          "name": "stdout"
        }
      ]
    },
    {
      "cell_type": "code",
      "metadata": {
        "id": "681NCLkqUO1D"
      },
      "source": [
        "path_covid19 = f\"jctsfj2sfn-1.zip\"\n",
        "local_zip = path_covid19\n",
        "zip_ref = zipfile.ZipFile(local_zip, 'r')\n",
        "zip_ref.extractall('/content/')\n",
        "zip_ref.close()"
      ],
      "execution_count": null,
      "outputs": []
    },
    {
      "cell_type": "code",
      "metadata": {
        "id": "OYQZ9BxvUzrh"
      },
      "source": [
        "path_covid19 = f\"covid19-pneumonia-normal-chest-xraypa-dataset.zip\"\n",
        "local_zip = path_covid19\n",
        "zip_ref = zipfile.ZipFile(local_zip, 'r')\n",
        "zip_ref.extractall('/content/')\n",
        "zip_ref.close()"
      ],
      "execution_count": null,
      "outputs": []
    },
    {
      "cell_type": "code",
      "metadata": {
        "id": "jzgZpZCSbqnX"
      },
      "source": [
        "!pip install split-folders\n",
        "import splitfolders"
      ],
      "execution_count": null,
      "outputs": []
    },
    {
      "cell_type": "code",
      "metadata": {
        "id": "PARfxHnIbxwn"
      },
      "source": [
        "splitfolders.ratio(\"/content/COVID19_Pneumonia_Normal_Chest_Xray_PA_Dataset/\", output=\"/content/split2/\", seed=1337, ratio=(0.90, 0.10))"
      ],
      "execution_count": null,
      "outputs": []
    },
    {
      "cell_type": "code",
      "metadata": {
        "id": "rfWMJGxwdTqm"
      },
      "source": [
        "dir = 'train_fi'\n",
        "base_dir = '/content/'\n",
        "path = os.path.join(base_dir, dir)\n",
        "if not os.path.exists(dir):\n",
        "  try:\n",
        "    os.mkdir(path)\n",
        "  except:\n",
        "    print('file is in')"
      ],
      "execution_count": null,
      "outputs": []
    },
    {
      "cell_type": "code",
      "metadata": {
        "id": "ZsANcoV5eRCM"
      },
      "source": [
        "dir = 'test_fi'\n",
        "base_dir = '/content/'\n",
        "path = os.path.join(base_dir, dir)\n",
        "if not os.path.exists(dir):\n",
        "  try:\n",
        "    os.mkdir(path)\n",
        "  except:\n",
        "    print('file is in')"
      ],
      "execution_count": null,
      "outputs": []
    },
    {
      "cell_type": "code",
      "metadata": {
        "id": "c9Bl7xjYdAn1"
      },
      "source": [
        "src = '/content/split2/train/'\n",
        "dest = '/content/train_fi/'\n",
        "\n",
        "src_files = os.listdir(src)\n",
        "for path, subdirs, files in os.walk(src):\n",
        "    for name in files:\n",
        "        filename = os.path.join(path, name)\n",
        "        shutil.copy2(filename, dest)"
      ],
      "execution_count": null,
      "outputs": []
    },
    {
      "cell_type": "code",
      "metadata": {
        "id": "f4W3E_geeYb3"
      },
      "source": [
        "src = '/content/split2/val/'\n",
        "dest = '/content/test_fi/'\n",
        "\n",
        "src_files = os.listdir(src)\n",
        "for path, subdirs, files in os.walk(src):\n",
        "    for name in files:\n",
        "        filename = os.path.join(path, name)\n",
        "        shutil.copy2(filename, dest)"
      ],
      "execution_count": null,
      "outputs": []
    },
    {
      "cell_type": "code",
      "metadata": {
        "id": "aPUpRwdxedtv"
      },
      "source": [
        "print(len(os.listdir('/content/test_fi/')))"
      ],
      "execution_count": null,
      "outputs": []
    },
    {
      "cell_type": "code",
      "metadata": {
        "colab": {
          "base_uri": "https://localhost:8080/"
        },
        "id": "dn4-peACdwkG",
        "outputId": "d3d0bbf1-e202-4783-b344-55ac05a64edb"
      },
      "source": [
        "print(len(os.listdir('/content/train_fi/')))"
      ],
      "execution_count": null,
      "outputs": [
        {
          "output_type": "stream",
          "text": [
            "4116\n"
          ],
          "name": "stdout"
        }
      ]
    },
    {
      "cell_type": "code",
      "metadata": {
        "id": "lcRAL8bfV-7h"
      },
      "source": [
        "dir = 'train'\n",
        "base_dir = '/content/'\n",
        "path = os.path.join(base_dir, dir)\n",
        "if not os.path.exists(dir):\n",
        "  try:\n",
        "    os.mkdir(path)\n",
        "  except:\n",
        "    print('file is in')"
      ],
      "execution_count": null,
      "outputs": []
    },
    {
      "cell_type": "code",
      "metadata": {
        "colab": {
          "base_uri": "https://localhost:8080/"
        },
        "id": "Y00BBADbf_HN",
        "outputId": "a6d02f23-d567-4b5e-f258-6cd1267580cf"
      },
      "source": [
        "os.listdir(base_dir)"
      ],
      "execution_count": null,
      "outputs": [
        {
          "output_type": "execute_result",
          "data": {
            "text/plain": [
              "['.config',\n",
              " 'train_fi',\n",
              " 'covid19-pneumonia-normal-chest-xraypa-dataset.zip',\n",
              " 'test_fi',\n",
              " 'train',\n",
              " 'split2',\n",
              " 'COVID19_Pneumonia_Normal_Chest_Xray_PA_Dataset',\n",
              " 'metadata.csv',\n",
              " 'jctsfj2sfn-1.zip',\n",
              " 'sample_data']"
            ]
          },
          "metadata": {
            "tags": []
          },
          "execution_count": 19
        }
      ]
    },
    {
      "cell_type": "code",
      "metadata": {
        "colab": {
          "background_save": true
        },
        "id": "4LXGJZHaVfmR"
      },
      "source": [
        "src = '/content/COVID19_Pneumonia_Normal_Chest_Xray_PA_Dataset/'\n",
        "dest = '/content/train/'\n",
        "\n",
        "src_files = os.listdir(src)\n",
        "for path, subdirs, files in os.walk(src):\n",
        "    for name in files:\n",
        "        filename = os.path.join(path, name)\n",
        "        shutil.copy2(filename, dest)"
      ],
      "execution_count": null,
      "outputs": []
    },
    {
      "cell_type": "code",
      "metadata": {
        "colab": {
          "background_save": true
        },
        "id": "7Us4NqfoW0Ae"
      },
      "source": [
        "directories = []\n",
        "categories = []\n",
        "    \n",
        "files = os.listdir('/content/train_fi/')\n",
        "\n",
        "for img in files:\n",
        "\n",
        "    fileName = img.split('.')[0]\n",
        "    \n",
        "    if '0000'  in fileName: categories.append(0)\n",
        "    elif  'COVID-19 '  in fileName: categories.append(1)\n",
        "    elif  'COVID19' in fileName: categories.append(1)\n",
        "    else: categories.append(2)\n",
        "\n",
        "\n",
        "df = pd.DataFrame({\n",
        "    'filename': files,\n",
        "    'category': categories\n",
        "})"
      ],
      "execution_count": null,
      "outputs": []
    },
    {
      "cell_type": "code",
      "metadata": {
        "colab": {
          "background_save": true
        },
        "id": "IP0usnWtm5iD",
        "outputId": "b74deee7-b66f-4793-c6ce-079f77b1c03e"
      },
      "source": [
        "df.head(30)"
      ],
      "execution_count": null,
      "outputs": [
        {
          "output_type": "execute_result",
          "data": {
            "text/html": [
              "<div>\n",
              "<style scoped>\n",
              "    .dataframe tbody tr th:only-of-type {\n",
              "        vertical-align: middle;\n",
              "    }\n",
              "\n",
              "    .dataframe tbody tr th {\n",
              "        vertical-align: top;\n",
              "    }\n",
              "\n",
              "    .dataframe thead th {\n",
              "        text-align: right;\n",
              "    }\n",
              "</style>\n",
              "<table border=\"1\" class=\"dataframe\">\n",
              "  <thead>\n",
              "    <tr style=\"text-align: right;\">\n",
              "      <th></th>\n",
              "      <th>filename</th>\n",
              "      <th>category</th>\n",
              "    </tr>\n",
              "  </thead>\n",
              "  <tbody>\n",
              "    <tr>\n",
              "      <th>0</th>\n",
              "      <td>person298_bacteria_1408.jpeg</td>\n",
              "      <td>2</td>\n",
              "    </tr>\n",
              "    <tr>\n",
              "      <th>1</th>\n",
              "      <td>00000834_001.png</td>\n",
              "      <td>0</td>\n",
              "    </tr>\n",
              "    <tr>\n",
              "      <th>2</th>\n",
              "      <td>00000974_002.png</td>\n",
              "      <td>0</td>\n",
              "    </tr>\n",
              "    <tr>\n",
              "      <th>3</th>\n",
              "      <td>person318_bacteria_1474.jpeg</td>\n",
              "      <td>2</td>\n",
              "    </tr>\n",
              "    <tr>\n",
              "      <th>4</th>\n",
              "      <td>00000771_000.png</td>\n",
              "      <td>0</td>\n",
              "    </tr>\n",
              "    <tr>\n",
              "      <th>5</th>\n",
              "      <td>COVID-19 (859).jpg</td>\n",
              "      <td>1</td>\n",
              "    </tr>\n",
              "    <tr>\n",
              "      <th>6</th>\n",
              "      <td>COVID-19 (702).jpg</td>\n",
              "      <td>1</td>\n",
              "    </tr>\n",
              "    <tr>\n",
              "      <th>7</th>\n",
              "      <td>00000976_002.png</td>\n",
              "      <td>0</td>\n",
              "    </tr>\n",
              "    <tr>\n",
              "      <th>8</th>\n",
              "      <td>person971_bacteria_2896.jpeg</td>\n",
              "      <td>2</td>\n",
              "    </tr>\n",
              "    <tr>\n",
              "      <th>9</th>\n",
              "      <td>00000850_000.png</td>\n",
              "      <td>0</td>\n",
              "    </tr>\n",
              "    <tr>\n",
              "      <th>10</th>\n",
              "      <td>COVID-19 (478).jpg</td>\n",
              "      <td>1</td>\n",
              "    </tr>\n",
              "    <tr>\n",
              "      <th>11</th>\n",
              "      <td>00000600_000.png</td>\n",
              "      <td>0</td>\n",
              "    </tr>\n",
              "    <tr>\n",
              "      <th>12</th>\n",
              "      <td>53EC07C9-5CC6-4BE4-9B6F-D7B0D72AAA7E.jpeg</td>\n",
              "      <td>2</td>\n",
              "    </tr>\n",
              "    <tr>\n",
              "      <th>13</th>\n",
              "      <td>00001032_000.png</td>\n",
              "      <td>0</td>\n",
              "    </tr>\n",
              "    <tr>\n",
              "      <th>14</th>\n",
              "      <td>00000422_002.png</td>\n",
              "      <td>0</td>\n",
              "    </tr>\n",
              "    <tr>\n",
              "      <th>15</th>\n",
              "      <td>00000194_005.png</td>\n",
              "      <td>0</td>\n",
              "    </tr>\n",
              "    <tr>\n",
              "      <th>16</th>\n",
              "      <td>00000765_005.png</td>\n",
              "      <td>0</td>\n",
              "    </tr>\n",
              "    <tr>\n",
              "      <th>17</th>\n",
              "      <td>person949_bacteria_2874.jpeg</td>\n",
              "      <td>2</td>\n",
              "    </tr>\n",
              "    <tr>\n",
              "      <th>18</th>\n",
              "      <td>COVID-19 (736).jpg</td>\n",
              "      <td>1</td>\n",
              "    </tr>\n",
              "    <tr>\n",
              "      <th>19</th>\n",
              "      <td>person94_virus_176.jpeg</td>\n",
              "      <td>2</td>\n",
              "    </tr>\n",
              "    <tr>\n",
              "      <th>20</th>\n",
              "      <td>00000211_033.png</td>\n",
              "      <td>0</td>\n",
              "    </tr>\n",
              "    <tr>\n",
              "      <th>21</th>\n",
              "      <td>00000798_000.png</td>\n",
              "      <td>0</td>\n",
              "    </tr>\n",
              "    <tr>\n",
              "      <th>22</th>\n",
              "      <td>COVID19(437).jpg</td>\n",
              "      <td>1</td>\n",
              "    </tr>\n",
              "    <tr>\n",
              "      <th>23</th>\n",
              "      <td>COVID19(505).jpg</td>\n",
              "      <td>1</td>\n",
              "    </tr>\n",
              "    <tr>\n",
              "      <th>24</th>\n",
              "      <td>00000359_005.png</td>\n",
              "      <td>0</td>\n",
              "    </tr>\n",
              "    <tr>\n",
              "      <th>25</th>\n",
              "      <td>COVID-19 (619).jpg</td>\n",
              "      <td>1</td>\n",
              "    </tr>\n",
              "    <tr>\n",
              "      <th>26</th>\n",
              "      <td>00000473_000.png</td>\n",
              "      <td>0</td>\n",
              "    </tr>\n",
              "    <tr>\n",
              "      <th>27</th>\n",
              "      <td>person24_bacteria_111.jpeg</td>\n",
              "      <td>2</td>\n",
              "    </tr>\n",
              "    <tr>\n",
              "      <th>28</th>\n",
              "      <td>person963_bacteria_2888.jpeg</td>\n",
              "      <td>2</td>\n",
              "    </tr>\n",
              "    <tr>\n",
              "      <th>29</th>\n",
              "      <td>COVID-19 (296).jpg</td>\n",
              "      <td>1</td>\n",
              "    </tr>\n",
              "  </tbody>\n",
              "</table>\n",
              "</div>"
            ],
            "text/plain": [
              "                                     filename  category\n",
              "0                person298_bacteria_1408.jpeg         2\n",
              "1                            00000834_001.png         0\n",
              "2                            00000974_002.png         0\n",
              "3                person318_bacteria_1474.jpeg         2\n",
              "4                            00000771_000.png         0\n",
              "5                          COVID-19 (859).jpg         1\n",
              "6                          COVID-19 (702).jpg         1\n",
              "7                            00000976_002.png         0\n",
              "8                person971_bacteria_2896.jpeg         2\n",
              "9                            00000850_000.png         0\n",
              "10                         COVID-19 (478).jpg         1\n",
              "11                           00000600_000.png         0\n",
              "12  53EC07C9-5CC6-4BE4-9B6F-D7B0D72AAA7E.jpeg         2\n",
              "13                           00001032_000.png         0\n",
              "14                           00000422_002.png         0\n",
              "15                           00000194_005.png         0\n",
              "16                           00000765_005.png         0\n",
              "17               person949_bacteria_2874.jpeg         2\n",
              "18                         COVID-19 (736).jpg         1\n",
              "19                    person94_virus_176.jpeg         2\n",
              "20                           00000211_033.png         0\n",
              "21                           00000798_000.png         0\n",
              "22                           COVID19(437).jpg         1\n",
              "23                           COVID19(505).jpg         1\n",
              "24                           00000359_005.png         0\n",
              "25                         COVID-19 (619).jpg         1\n",
              "26                           00000473_000.png         0\n",
              "27                 person24_bacteria_111.jpeg         2\n",
              "28               person963_bacteria_2888.jpeg         2\n",
              "29                         COVID-19 (296).jpg         1"
            ]
          },
          "metadata": {
            "tags": []
          },
          "execution_count": 0
        }
      ]
    },
    {
      "cell_type": "code",
      "metadata": {
        "colab": {
          "background_save": true
        },
        "id": "T2oqViDGnEDs",
        "outputId": "efbd0fea-3cd3-4be5-e521-2a19a5f28be4"
      },
      "source": [
        "'''\n",
        "0 Represents Normal \n",
        "1 Represents COVID-19\n",
        "2 Represents Viral Pneumonia \n",
        "'''\n",
        "df['category'].value_counts().plot.bar()"
      ],
      "execution_count": null,
      "outputs": [
        {
          "output_type": "execute_result",
          "data": {
            "text/plain": [
              "<matplotlib.axes._subplots.AxesSubplot at 0x7facc54ce910>"
            ]
          },
          "metadata": {
            "tags": []
          },
          "execution_count": 0
        },
        {
          "output_type": "display_data",
          "data": {
            "image/png": "[encoded data removed]",
            "text/plain": [
              "<Figure size 432x288 with 1 Axes>"
            ]
          },
          "metadata": {
            "tags": []
          }
        }
      ]
    },
    {
      "cell_type": "code",
      "metadata": {
        "colab": {
          "background_save": true
        },
        "id": "hwkZ_ju_pCb_",
        "outputId": "f1313215-cff7-430c-f4af-be5b2dbfe8dc"
      },
      "source": [
        "sample = random.choice(os.listdir('/content/train_fi/'))\n",
        "image = load_img('/content/train_fi/' + sample)\n",
        "\n",
        "print(sample)\n",
        "plt.imshow(image)"
      ],
      "execution_count": null,
      "outputs": [
        {
          "output_type": "stream",
          "text": [
            "COVID19(435).jpg\n"
          ],
          "name": "stdout"
        },
        {
          "output_type": "execute_result",
          "data": {
            "text/plain": [
              "<matplotlib.image.AxesImage at 0x7facc4f20210>"
            ]
          },
          "metadata": {
            "tags": []
          },
          "execution_count": 0
        },
        {
          "output_type": "display_data",
          "data": {
            "image/png": "[encoded data removed]",
            "text/plain": [
              "<Figure size 432x288 with 1 Axes>"
            ]
          },
          "metadata": {
            "tags": []
          }
        }
      ]
    },
    {
      "cell_type": "code",
      "metadata": {
        "colab": {
          "background_save": true
        },
        "id": "ocpkJQ2VqcIN",
        "outputId": "9f205570-abf5-4d0a-e833-b4b4f369e910"
      },
      "source": [
        "model = tf.keras.models.Sequential([\n",
        "      MobileNetV2(weights='imagenet', include_top=False, input_shape=(224, 224, 3), pooling='avg'),\n",
        "      tf.keras.layers.Dropout(0.5),\n",
        "      tf.keras.layers.Flatten(),\n",
        "      tf.keras.layers.Dense(512, activation='relu'),\n",
        "      tf.keras.layers.Dense(3, activation='softmax'),\n",
        "])\n",
        "\n",
        "model.layers[0].trainable = False\n",
        "\n",
        "model.summary()"
      ],
      "execution_count": null,
      "outputs": [
        {
          "output_type": "stream",
          "text": [
            "Downloading data from https://storage.googleapis.com/tensorflow/keras-applications/mobilenet_v2/mobilenet_v2_weights_tf_dim_ordering_tf_kernels_1.0_224_no_top.h5\n",
            "9412608/9406464 [==============================] - 0s 0us/step\n",
            "Model: \"sequential\"\n",
            "_________________________________________________________________\n",
            "Layer (type)                 Output Shape              Param #   \n",
            "=================================================================\n",
            "mobilenetv2_1.00_224 (Functi (None, 1280)              2257984   \n",
            "_________________________________________________________________\n",
            "dropout (Dropout)            (None, 1280)              0         \n",
            "_________________________________________________________________\n",
            "flatten (Flatten)            (None, 1280)              0         \n",
            "_________________________________________________________________\n",
            "dense (Dense)                (None, 512)               655872    \n",
            "_________________________________________________________________\n",
            "dense_1 (Dense)              (None, 3)                 1539      \n",
            "=================================================================\n",
            "Total params: 2,915,395\n",
            "Trainable params: 657,411\n",
            "Non-trainable params: 2,257,984\n",
            "_________________________________________________________________\n"
          ],
          "name": "stdout"
        }
      ]
    },
    {
      "cell_type": "code",
      "metadata": {
        "colab": {
          "background_save": true
        },
        "id": "Csu3fJThrF1z"
      },
      "source": [
        " class myCallback(tf.keras.callbacks.Callback):\n",
        "      def on_epoch_end(self, epoch,logs={}):\n",
        "          print(logs.get('accuracy'))\n",
        "          if (logs.get('accuracy')>0.90) and (logs.get('val_accuracy')>0.90):\n",
        "              print(\"Reached 90% accuracy so cancelling training!\")\n",
        "              self.model.stop_training=True"
      ],
      "execution_count": null,
      "outputs": []
    },
    {
      "cell_type": "code",
      "metadata": {
        "colab": {
          "background_save": true
        },
        "id": "mihCgcpct4XG"
      },
      "source": [
        "callbacks = myCallback()"
      ],
      "execution_count": null,
      "outputs": []
    },
    {
      "cell_type": "code",
      "metadata": {
        "colab": {
          "background_save": true
        },
        "id": "hlYW7S_JH16q"
      },
      "source": [
        "df[\"category\"] = df[\"category\"].replace({0: 'Normal', 1: 'COVID-19', 2 : 'Pneumonia'}) "
      ],
      "execution_count": null,
      "outputs": []
    },
    {
      "cell_type": "code",
      "metadata": {
        "colab": {
          "background_save": true
        },
        "id": "iNVaLZVVuVQU",
        "outputId": "7480ff4b-d97e-48c5-fd52-c914697d2fe5"
      },
      "source": [
        "df = df.sample(frac=1).reset_index(drop=True)\n",
        "df"
      ],
      "execution_count": null,
      "outputs": [
        {
          "output_type": "execute_result",
          "data": {
            "text/html": [
              "<div>\n",
              "<style scoped>\n",
              "    .dataframe tbody tr th:only-of-type {\n",
              "        vertical-align: middle;\n",
              "    }\n",
              "\n",
              "    .dataframe tbody tr th {\n",
              "        vertical-align: top;\n",
              "    }\n",
              "\n",
              "    .dataframe thead th {\n",
              "        text-align: right;\n",
              "    }\n",
              "</style>\n",
              "<table border=\"1\" class=\"dataframe\">\n",
              "  <thead>\n",
              "    <tr style=\"text-align: right;\">\n",
              "      <th></th>\n",
              "      <th>filename</th>\n",
              "      <th>category</th>\n",
              "    </tr>\n",
              "  </thead>\n",
              "  <tbody>\n",
              "    <tr>\n",
              "      <th>0</th>\n",
              "      <td>00000047_000.png</td>\n",
              "      <td>Normal</td>\n",
              "    </tr>\n",
              "    <tr>\n",
              "      <th>1</th>\n",
              "      <td>COVID-19 (21).jpeg</td>\n",
              "      <td>COVID-19</td>\n",
              "    </tr>\n",
              "    <tr>\n",
              "      <th>2</th>\n",
              "      <td>person262_virus_544.jpeg</td>\n",
              "      <td>Pneumonia</td>\n",
              "    </tr>\n",
              "    <tr>\n",
              "      <th>3</th>\n",
              "      <td>person940_virus_1602.jpeg</td>\n",
              "      <td>Pneumonia</td>\n",
              "    </tr>\n",
              "    <tr>\n",
              "      <th>4</th>\n",
              "      <td>COVID19(126).jpg</td>\n",
              "      <td>COVID-19</td>\n",
              "    </tr>\n",
              "    <tr>\n",
              "      <th>...</th>\n",
              "      <td>...</td>\n",
              "      <td>...</td>\n",
              "    </tr>\n",
              "    <tr>\n",
              "      <th>4111</th>\n",
              "      <td>00005032_000.png</td>\n",
              "      <td>Normal</td>\n",
              "    </tr>\n",
              "    <tr>\n",
              "      <th>4112</th>\n",
              "      <td>00000158_000.png</td>\n",
              "      <td>Normal</td>\n",
              "    </tr>\n",
              "    <tr>\n",
              "      <th>4113</th>\n",
              "      <td>00000823_004.png</td>\n",
              "      <td>Normal</td>\n",
              "    </tr>\n",
              "    <tr>\n",
              "      <th>4114</th>\n",
              "      <td>COVID-19 (379).jpg</td>\n",
              "      <td>COVID-19</td>\n",
              "    </tr>\n",
              "    <tr>\n",
              "      <th>4115</th>\n",
              "      <td>person1398_bacteria_3548.jpeg</td>\n",
              "      <td>Pneumonia</td>\n",
              "    </tr>\n",
              "  </tbody>\n",
              "</table>\n",
              "<p>4116 rows × 2 columns</p>\n",
              "</div>"
            ],
            "text/plain": [
              "                           filename   category\n",
              "0                  00000047_000.png     Normal\n",
              "1                COVID-19 (21).jpeg   COVID-19\n",
              "2          person262_virus_544.jpeg  Pneumonia\n",
              "3         person940_virus_1602.jpeg  Pneumonia\n",
              "4                  COVID19(126).jpg   COVID-19\n",
              "...                             ...        ...\n",
              "4111               00005032_000.png     Normal\n",
              "4112               00000158_000.png     Normal\n",
              "4113               00000823_004.png     Normal\n",
              "4114             COVID-19 (379).jpg   COVID-19\n",
              "4115  person1398_bacteria_3548.jpeg  Pneumonia\n",
              "\n",
              "[4116 rows x 2 columns]"
            ]
          },
          "metadata": {
            "tags": []
          },
          "execution_count": 0
        }
      ]
    },
    {
      "cell_type": "code",
      "metadata": {
        "colab": {
          "background_save": true
        },
        "id": "N1WpwED7uZaK"
      },
      "source": [
        "train_df, validate_df = train_test_split(df, test_size=0.10, random_state=42)\n",
        "train_df = train_df.reset_index(drop=True)\n",
        "validate_df = validate_df.reset_index(drop=True)"
      ],
      "execution_count": null,
      "outputs": []
    },
    {
      "cell_type": "code",
      "metadata": {
        "colab": {
          "background_save": true
        },
        "id": "B1vyzOqnugLv",
        "outputId": "abe6c5a0-b930-4fbe-9c67-b6f3625e0367"
      },
      "source": [
        "train_df['category'].value_counts().plot.bar()"
      ],
      "execution_count": null,
      "outputs": [
        {
          "output_type": "execute_result",
          "data": {
            "text/plain": [
              "<matplotlib.axes._subplots.AxesSubplot at 0x7facc4ee3ad0>"
            ]
          },
          "metadata": {
            "tags": []
          },
          "execution_count": 0
        },
        {
          "output_type": "display_data",
          "data": {
            "image/png": "[encoded data removed]",
            "text/plain": [
              "<Figure size 432x288 with 1 Axes>"
            ]
          },
          "metadata": {
            "tags": []
          }
        }
      ]
    },
    {
      "cell_type": "code",
      "metadata": {
        "colab": {
          "background_save": true
        },
        "id": "XlRjeCqwuj_n"
      },
      "source": [
        "total_train = train_df.shape[0]\n",
        "total_validate = validate_df.shape[0]\n",
        "batch_size = 5"
      ],
      "execution_count": null,
      "outputs": []
    },
    {
      "cell_type": "code",
      "metadata": {
        "id": "KL57hzv2usAH"
      },
      "source": [
        "IMAGE_SIZE = (224,224)\n",
        "\n",
        "train_datagen = ImageDataGenerator (\n",
        "    \n",
        "    rotation_range = 15,\n",
        "    rescale = 1./255,\n",
        "    \n",
        "    shear_range = 0.1,\n",
        "    zoom_range = 0.2,\n",
        "    \n",
        "    horizontal_flip = True,\n",
        "    width_shift_range = 0.1,\n",
        "    height_shift_range = 0.1\n",
        ")\n",
        "\n",
        "train_generator = train_datagen.flow_from_dataframe (\n",
        "    \n",
        "    train_df, \n",
        "    '/content/train_fi/', \n",
        "    x_col = 'filename',\n",
        "    y_col = 'category',\n",
        "    target_size = IMAGE_SIZE,\n",
        "    class_mode = 'categorical',\n",
        "    batch_size = 147\n",
        ")"
      ],
      "execution_count": null,
      "outputs": []
    },
    {
      "cell_type": "code",
      "metadata": {
        "id": "2D4owZZ7u1Zd"
      },
      "source": [
        "validation_datagen = ImageDataGenerator(rescale=1./255)\n",
        "\n",
        "validation_generator = validation_datagen.flow_from_dataframe (\n",
        "    \n",
        "    validate_df, \n",
        "    '/content/train_fi/', \n",
        "    x_col ='filename',\n",
        "    y_col = 'category',\n",
        "    target_size = IMAGE_SIZE,\n",
        "    class_mode = 'categorical',\n",
        "    batch_size = batch_size\n",
        ")"
      ],
      "execution_count": null,
      "outputs": []
    },
    {
      "cell_type": "code",
      "metadata": {
        "id": "Q3QHbHBxu7-N"
      },
      "source": [
        "example_df = train_df.sample(n=1).reset_index(drop=True)\n",
        "\n",
        "example_generator = train_datagen.flow_from_dataframe (\n",
        "    \n",
        "    example_df, \n",
        "    '/content/train/', \n",
        "    x_col = 'filename',\n",
        "    y_col = 'category',\n",
        "    target_size = IMAGE_SIZE,\n",
        "    class_mode = 'categorical'\n",
        ")"
      ],
      "execution_count": null,
      "outputs": []
    },
    {
      "cell_type": "code",
      "metadata": {
        "id": "MZVLmj0HvDcI"
      },
      "source": [
        "print(example_df)\n",
        "\n",
        "plt.figure(figsize=(12, 12))\n",
        "\n",
        "for i in range(0, 15):\n",
        "    \n",
        "    plt.subplot(5, 3, i+1)\n",
        "    \n",
        "    for X_batch, Y_batch in example_generator:\n",
        "        image = X_batch[0]\n",
        "        plt.imshow(image)\n",
        "        break\n",
        "        \n",
        "plt.tight_layout()\n",
        "plt.show()"
      ],
      "execution_count": null,
      "outputs": []
    },
    {
      "cell_type": "code",
      "metadata": {
        "id": "eXHqTZOUvyVv"
      },
      "source": [
        "model.compile(optimizer='adam',\n",
        "              loss='categorical_crossentropy',\n",
        "              metrics = ['accuracy'])"
      ],
      "execution_count": null,
      "outputs": []
    },
    {
      "cell_type": "code",
      "metadata": {
        "id": "9YC7HMKa3aVx"
      },
      "source": [
        "epochs = 14"
      ],
      "execution_count": null,
      "outputs": []
    },
    {
      "cell_type": "code",
      "metadata": {
        "colab": {
          "base_uri": "https://localhost:8080/",
          "height": 1000
        },
        "id": "MOCskTEYvICR",
        "outputId": "403cb1d4-ace8-47a3-cef8-307d2d4b87d7"
      },
      "source": [
        "history = model.fit(\n",
        "    train_generator,\n",
        "    steps_per_epoch=10,\n",
        "    epochs= 100, #nanti ganti epoch\n",
        "    validation_data=validation_generator,\n",
        "    validation_steps=5,\n",
        "    verbose = 2,\n",
        "    callbacks = [callbacks]\n",
        ")"
      ],
      "execution_count": null,
      "outputs": [
        {
          "output_type": "stream",
          "text": [
            "Epoch 1/100\n",
            "10/10 - 65s - loss: 1.4870 - accuracy: 0.5414 - val_loss: 0.8450 - val_accuracy: 0.7200\n",
            "0.5414201021194458\n",
            "Epoch 2/100\n",
            "10/10 - 57s - loss: 0.5048 - accuracy: 0.8269 - val_loss: 0.2772 - val_accuracy: 0.9200\n",
            "0.8269230723381042\n",
            "Epoch 3/100\n",
            "10/10 - 62s - loss: 0.4406 - accuracy: 0.8565 - val_loss: 0.1930 - val_accuracy: 0.9200\n",
            "0.8564625978469849\n",
            "Epoch 4/100\n",
            "10/10 - 63s - loss: 0.3807 - accuracy: 0.8782 - val_loss: 0.1424 - val_accuracy: 0.9600\n",
            "0.8782312870025635\n",
            "Epoch 5/100\n",
            "10/10 - 57s - loss: 0.3856 - accuracy: 0.8706 - val_loss: 0.4053 - val_accuracy: 0.8800\n",
            "0.8705621361732483\n",
            "Epoch 6/100\n",
            "10/10 - 63s - loss: 0.3830 - accuracy: 0.8619 - val_loss: 0.3399 - val_accuracy: 0.9200\n",
            "0.8619047403335571\n",
            "Epoch 7/100\n",
            "10/10 - 61s - loss: 0.3494 - accuracy: 0.8830 - val_loss: 0.3844 - val_accuracy: 0.8800\n",
            "0.882993221282959\n",
            "Epoch 8/100\n",
            "10/10 - 57s - loss: 0.3787 - accuracy: 0.8624 - val_loss: 0.2339 - val_accuracy: 0.9200\n",
            "0.8624260425567627\n",
            "Epoch 9/100\n",
            "10/10 - 61s - loss: 0.3742 - accuracy: 0.8762 - val_loss: 0.3053 - val_accuracy: 0.9200\n",
            "0.8761904835700989\n",
            "Epoch 10/100\n",
            "10/10 - 58s - loss: 0.3831 - accuracy: 0.8580 - val_loss: 0.5481 - val_accuracy: 0.8000\n",
            "0.857988178730011\n",
            "Epoch 11/100\n",
            "10/10 - 63s - loss: 0.3587 - accuracy: 0.8735 - val_loss: 0.3999 - val_accuracy: 0.9200\n",
            "0.8734694123268127\n",
            "Epoch 12/100\n",
            "10/10 - 57s - loss: 0.3664 - accuracy: 0.8661 - val_loss: 0.2995 - val_accuracy: 0.9200\n",
            "0.8661242723464966\n",
            "Epoch 13/100\n",
            "10/10 - 63s - loss: 0.3220 - accuracy: 0.8912 - val_loss: 0.2675 - val_accuracy: 0.9200\n",
            "0.8911564350128174\n",
            "Epoch 14/100\n",
            "10/10 - 59s - loss: 0.3755 - accuracy: 0.8765 - val_loss: 0.5591 - val_accuracy: 0.7600\n",
            "0.8764792680740356\n",
            "Epoch 15/100\n",
            "10/10 - 58s - loss: 0.3354 - accuracy: 0.8846 - val_loss: 0.3089 - val_accuracy: 0.9200\n",
            "0.8846153616905212\n",
            "Epoch 16/100\n",
            "10/10 - 63s - loss: 0.2993 - accuracy: 0.8986 - val_loss: 0.2491 - val_accuracy: 0.9200\n",
            "0.898639440536499\n",
            "Epoch 17/100\n",
            "10/10 - 63s - loss: 0.3100 - accuracy: 0.8898 - val_loss: 0.3281 - val_accuracy: 0.9200\n",
            "0.8897958993911743\n",
            "Epoch 18/100\n",
            "10/10 - 61s - loss: 0.3025 - accuracy: 0.8864 - val_loss: 0.1878 - val_accuracy: 0.9200\n",
            "0.8863945603370667\n",
            "Epoch 19/100\n",
            "10/10 - 58s - loss: 0.3215 - accuracy: 0.8913 - val_loss: 0.0826 - val_accuracy: 1.0000\n",
            "0.8912721872329712\n",
            "Epoch 20/100\n",
            "10/10 - 55s - loss: 0.3311 - accuracy: 0.8846 - val_loss: 0.3556 - val_accuracy: 0.8400\n",
            "0.8846153616905212\n",
            "Epoch 21/100\n",
            "10/10 - 64s - loss: 0.3114 - accuracy: 0.9014 - val_loss: 0.3335 - val_accuracy: 0.9200\n",
            "0.9013605713844299\n",
            "Epoch 22/100\n",
            "10/10 - 62s - loss: 0.3368 - accuracy: 0.8803 - val_loss: 0.3591 - val_accuracy: 0.8800\n",
            "0.8802720904350281\n",
            "Epoch 23/100\n",
            "10/10 - 57s - loss: 0.3043 - accuracy: 0.8913 - val_loss: 0.3438 - val_accuracy: 0.8800\n",
            "0.8912721872329712\n",
            "Epoch 24/100\n",
            "10/10 - 63s - loss: 0.3284 - accuracy: 0.8830 - val_loss: 0.1161 - val_accuracy: 1.0000\n",
            "0.882993221282959\n",
            "Epoch 25/100\n"
          ],
          "name": "stdout"
        },
        {
          "output_type": "error",
          "ename": "KeyboardInterrupt",
          "evalue": "ignored",
          "traceback": [
            "\u001b[0;31m---------------------------------------------------------------------------\u001b[0m",
            "\u001b[0;31mKeyboardInterrupt\u001b[0m                         Traceback (most recent call last)",
            "\u001b[0;32m<ipython-input-39-494c46d43638>\u001b[0m in \u001b[0;36m<module>\u001b[0;34m()\u001b[0m\n\u001b[1;32m      6\u001b[0m     \u001b[0mvalidation_steps\u001b[0m\u001b[0;34m=\u001b[0m\u001b[0;36m5\u001b[0m\u001b[0;34m,\u001b[0m\u001b[0;34m\u001b[0m\u001b[0;34m\u001b[0m\u001b[0m\n\u001b[1;32m      7\u001b[0m     \u001b[0mverbose\u001b[0m \u001b[0;34m=\u001b[0m \u001b[0;36m2\u001b[0m\u001b[0;34m,\u001b[0m\u001b[0;34m\u001b[0m\u001b[0;34m\u001b[0m\u001b[0m\n\u001b[0;32m----> 8\u001b[0;31m     \u001b[0mcallbacks\u001b[0m \u001b[0;34m=\u001b[0m \u001b[0;34m[\u001b[0m\u001b[0mcallbacks\u001b[0m\u001b[0;34m]\u001b[0m\u001b[0;34m\u001b[0m\u001b[0;34m\u001b[0m\u001b[0m\n\u001b[0m\u001b[1;32m      9\u001b[0m )\n",
            "\u001b[0;32m/usr/local/lib/python3.7/dist-packages/tensorflow/python/keras/engine/training.py\u001b[0m in \u001b[0;36mfit\u001b[0;34m(self, x, y, batch_size, epochs, verbose, callbacks, validation_split, validation_data, shuffle, class_weight, sample_weight, initial_epoch, steps_per_epoch, validation_steps, validation_batch_size, validation_freq, max_queue_size, workers, use_multiprocessing)\u001b[0m\n\u001b[1;32m   1181\u001b[0m                 _r=1):\n\u001b[1;32m   1182\u001b[0m               \u001b[0mcallbacks\u001b[0m\u001b[0;34m.\u001b[0m\u001b[0mon_train_batch_begin\u001b[0m\u001b[0;34m(\u001b[0m\u001b[0mstep\u001b[0m\u001b[0;34m)\u001b[0m\u001b[0;34m\u001b[0m\u001b[0;34m\u001b[0m\u001b[0m\n\u001b[0;32m-> 1183\u001b[0;31m               \u001b[0mtmp_logs\u001b[0m \u001b[0;34m=\u001b[0m \u001b[0mself\u001b[0m\u001b[0;34m.\u001b[0m\u001b[0mtrain_function\u001b[0m\u001b[0;34m(\u001b[0m\u001b[0miterator\u001b[0m\u001b[0;34m)\u001b[0m\u001b[0;34m\u001b[0m\u001b[0;34m\u001b[0m\u001b[0m\n\u001b[0m\u001b[1;32m   1184\u001b[0m               \u001b[0;32mif\u001b[0m \u001b[0mdata_handler\u001b[0m\u001b[0;34m.\u001b[0m\u001b[0mshould_sync\u001b[0m\u001b[0;34m:\u001b[0m\u001b[0;34m\u001b[0m\u001b[0;34m\u001b[0m\u001b[0m\n\u001b[1;32m   1185\u001b[0m                 \u001b[0mcontext\u001b[0m\u001b[0;34m.\u001b[0m\u001b[0masync_wait\u001b[0m\u001b[0;34m(\u001b[0m\u001b[0;34m)\u001b[0m\u001b[0;34m\u001b[0m\u001b[0;34m\u001b[0m\u001b[0m\n",
            "\u001b[0;32m/usr/local/lib/python3.7/dist-packages/tensorflow/python/eager/def_function.py\u001b[0m in \u001b[0;36m__call__\u001b[0;34m(self, *args, **kwds)\u001b[0m\n\u001b[1;32m    887\u001b[0m \u001b[0;34m\u001b[0m\u001b[0m\n\u001b[1;32m    888\u001b[0m       \u001b[0;32mwith\u001b[0m \u001b[0mOptionalXlaContext\u001b[0m\u001b[0;34m(\u001b[0m\u001b[0mself\u001b[0m\u001b[0;34m.\u001b[0m\u001b[0m_jit_compile\u001b[0m\u001b[0;34m)\u001b[0m\u001b[0;34m:\u001b[0m\u001b[0;34m\u001b[0m\u001b[0;34m\u001b[0m\u001b[0m\n\u001b[0;32m--> 889\u001b[0;31m         \u001b[0mresult\u001b[0m \u001b[0;34m=\u001b[0m \u001b[0mself\u001b[0m\u001b[0;34m.\u001b[0m\u001b[0m_call\u001b[0m\u001b[0;34m(\u001b[0m\u001b[0;34m*\u001b[0m\u001b[0margs\u001b[0m\u001b[0;34m,\u001b[0m \u001b[0;34m**\u001b[0m\u001b[0mkwds\u001b[0m\u001b[0;34m)\u001b[0m\u001b[0;34m\u001b[0m\u001b[0;34m\u001b[0m\u001b[0m\n\u001b[0m\u001b[1;32m    890\u001b[0m \u001b[0;34m\u001b[0m\u001b[0m\n\u001b[1;32m    891\u001b[0m       \u001b[0mnew_tracing_count\u001b[0m \u001b[0;34m=\u001b[0m \u001b[0mself\u001b[0m\u001b[0;34m.\u001b[0m\u001b[0mexperimental_get_tracing_count\u001b[0m\u001b[0;34m(\u001b[0m\u001b[0;34m)\u001b[0m\u001b[0;34m\u001b[0m\u001b[0;34m\u001b[0m\u001b[0m\n",
            "\u001b[0;32m/usr/local/lib/python3.7/dist-packages/tensorflow/python/eager/def_function.py\u001b[0m in \u001b[0;36m_call\u001b[0;34m(self, *args, **kwds)\u001b[0m\n\u001b[1;32m    915\u001b[0m       \u001b[0;31m# In this case we have created variables on the first call, so we run the\u001b[0m\u001b[0;34m\u001b[0m\u001b[0;34m\u001b[0m\u001b[0;34m\u001b[0m\u001b[0m\n\u001b[1;32m    916\u001b[0m       \u001b[0;31m# defunned version which is guaranteed to never create variables.\u001b[0m\u001b[0;34m\u001b[0m\u001b[0;34m\u001b[0m\u001b[0;34m\u001b[0m\u001b[0m\n\u001b[0;32m--> 917\u001b[0;31m       \u001b[0;32mreturn\u001b[0m \u001b[0mself\u001b[0m\u001b[0;34m.\u001b[0m\u001b[0m_stateless_fn\u001b[0m\u001b[0;34m(\u001b[0m\u001b[0;34m*\u001b[0m\u001b[0margs\u001b[0m\u001b[0;34m,\u001b[0m \u001b[0;34m**\u001b[0m\u001b[0mkwds\u001b[0m\u001b[0;34m)\u001b[0m  \u001b[0;31m# pylint: disable=not-callable\u001b[0m\u001b[0;34m\u001b[0m\u001b[0;34m\u001b[0m\u001b[0m\n\u001b[0m\u001b[1;32m    918\u001b[0m     \u001b[0;32melif\u001b[0m \u001b[0mself\u001b[0m\u001b[0;34m.\u001b[0m\u001b[0m_stateful_fn\u001b[0m \u001b[0;32mis\u001b[0m \u001b[0;32mnot\u001b[0m \u001b[0;32mNone\u001b[0m\u001b[0;34m:\u001b[0m\u001b[0;34m\u001b[0m\u001b[0;34m\u001b[0m\u001b[0m\n\u001b[1;32m    919\u001b[0m       \u001b[0;31m# Release the lock early so that multiple threads can perform the call\u001b[0m\u001b[0;34m\u001b[0m\u001b[0;34m\u001b[0m\u001b[0;34m\u001b[0m\u001b[0m\n",
            "\u001b[0;32m/usr/local/lib/python3.7/dist-packages/tensorflow/python/eager/function.py\u001b[0m in \u001b[0;36m__call__\u001b[0;34m(self, *args, **kwargs)\u001b[0m\n\u001b[1;32m   3022\u001b[0m        filtered_flat_args) = self._maybe_define_function(args, kwargs)\n\u001b[1;32m   3023\u001b[0m     return graph_function._call_flat(\n\u001b[0;32m-> 3024\u001b[0;31m         filtered_flat_args, captured_inputs=graph_function.captured_inputs)  # pylint: disable=protected-access\n\u001b[0m\u001b[1;32m   3025\u001b[0m \u001b[0;34m\u001b[0m\u001b[0m\n\u001b[1;32m   3026\u001b[0m   \u001b[0;34m@\u001b[0m\u001b[0mproperty\u001b[0m\u001b[0;34m\u001b[0m\u001b[0;34m\u001b[0m\u001b[0m\n",
            "\u001b[0;32m/usr/local/lib/python3.7/dist-packages/tensorflow/python/eager/function.py\u001b[0m in \u001b[0;36m_call_flat\u001b[0;34m(self, args, captured_inputs, cancellation_manager)\u001b[0m\n\u001b[1;32m   1959\u001b[0m       \u001b[0;31m# No tape is watching; skip to running the function.\u001b[0m\u001b[0;34m\u001b[0m\u001b[0;34m\u001b[0m\u001b[0;34m\u001b[0m\u001b[0m\n\u001b[1;32m   1960\u001b[0m       return self._build_call_outputs(self._inference_function.call(\n\u001b[0;32m-> 1961\u001b[0;31m           ctx, args, cancellation_manager=cancellation_manager))\n\u001b[0m\u001b[1;32m   1962\u001b[0m     forward_backward = self._select_forward_and_backward_functions(\n\u001b[1;32m   1963\u001b[0m         \u001b[0margs\u001b[0m\u001b[0;34m,\u001b[0m\u001b[0;34m\u001b[0m\u001b[0;34m\u001b[0m\u001b[0m\n",
            "\u001b[0;32m/usr/local/lib/python3.7/dist-packages/tensorflow/python/eager/function.py\u001b[0m in \u001b[0;36mcall\u001b[0;34m(self, ctx, args, cancellation_manager)\u001b[0m\n\u001b[1;32m    594\u001b[0m               \u001b[0minputs\u001b[0m\u001b[0;34m=\u001b[0m\u001b[0margs\u001b[0m\u001b[0;34m,\u001b[0m\u001b[0;34m\u001b[0m\u001b[0;34m\u001b[0m\u001b[0m\n\u001b[1;32m    595\u001b[0m               \u001b[0mattrs\u001b[0m\u001b[0;34m=\u001b[0m\u001b[0mattrs\u001b[0m\u001b[0;34m,\u001b[0m\u001b[0;34m\u001b[0m\u001b[0;34m\u001b[0m\u001b[0m\n\u001b[0;32m--> 596\u001b[0;31m               ctx=ctx)\n\u001b[0m\u001b[1;32m    597\u001b[0m         \u001b[0;32melse\u001b[0m\u001b[0;34m:\u001b[0m\u001b[0;34m\u001b[0m\u001b[0;34m\u001b[0m\u001b[0m\n\u001b[1;32m    598\u001b[0m           outputs = execute.execute_with_cancellation(\n",
            "\u001b[0;32m/usr/local/lib/python3.7/dist-packages/tensorflow/python/eager/execute.py\u001b[0m in \u001b[0;36mquick_execute\u001b[0;34m(op_name, num_outputs, inputs, attrs, ctx, name)\u001b[0m\n\u001b[1;32m     58\u001b[0m     \u001b[0mctx\u001b[0m\u001b[0;34m.\u001b[0m\u001b[0mensure_initialized\u001b[0m\u001b[0;34m(\u001b[0m\u001b[0;34m)\u001b[0m\u001b[0;34m\u001b[0m\u001b[0;34m\u001b[0m\u001b[0m\n\u001b[1;32m     59\u001b[0m     tensors = pywrap_tfe.TFE_Py_Execute(ctx._handle, device_name, op_name,\n\u001b[0;32m---> 60\u001b[0;31m                                         inputs, attrs, num_outputs)\n\u001b[0m\u001b[1;32m     61\u001b[0m   \u001b[0;32mexcept\u001b[0m \u001b[0mcore\u001b[0m\u001b[0;34m.\u001b[0m\u001b[0m_NotOkStatusException\u001b[0m \u001b[0;32mas\u001b[0m \u001b[0me\u001b[0m\u001b[0;34m:\u001b[0m\u001b[0;34m\u001b[0m\u001b[0;34m\u001b[0m\u001b[0m\n\u001b[1;32m     62\u001b[0m     \u001b[0;32mif\u001b[0m \u001b[0mname\u001b[0m \u001b[0;32mis\u001b[0m \u001b[0;32mnot\u001b[0m \u001b[0;32mNone\u001b[0m\u001b[0;34m:\u001b[0m\u001b[0;34m\u001b[0m\u001b[0;34m\u001b[0m\u001b[0m\n",
            "\u001b[0;31mKeyboardInterrupt\u001b[0m: "
          ]
        }
      ]
    },
    {
      "cell_type": "code",
      "metadata": {
        "id": "tvc07ASN3Dm-"
      },
      "source": [
        "accuracy = history.history['accuracy']\n",
        "val_accuracy = history.history['val_accuracy']\n",
        "numEpochs = range(1,  epochs + 1)\n",
        "plt.plot(numEpochs, accuracy, 'g', label='Training Accuracy')\n",
        "plt.plot(numEpochs, val_accuracy, 'b', label='Validation Accuracy')\n",
        "plt.title('Training and Validation accuracy')\n",
        "plt.xlabel('Epochs')\n",
        "plt.ylabel('Accuracy')\n",
        "plt.legend()\n",
        "plt.show()"
      ],
      "execution_count": null,
      "outputs": []
    },
    {
      "cell_type": "code",
      "metadata": {
        "id": "KiOlTrJdBwaS"
      },
      "source": [
        "def get_config(self):\n",
        "    config = super().get_config().copy()\n",
        "    config.update({\n",
        "        'return_sequences': self.return_sequences \n",
        "    })\n",
        "    return config\n",
        "\n",
        "model.save('/content/model_ml_mobile.h5')"
      ],
      "execution_count": null,
      "outputs": []
    },
    {
      "cell_type": "code",
      "metadata": {
        "id": "Uzgb4E_BB41t"
      },
      "source": [
        "open('/content/pred_vg.tflite', 'wb').write(tfmodel)"
      ],
      "execution_count": null,
      "outputs": []
    },
    {
      "cell_type": "code",
      "metadata": {
        "id": "kTI6HgWw2UKE"
      },
      "source": [
        "from tensorflow import keras\n",
        "model = keras.models.load_model('model_ml_vg_1.h5')"
      ],
      "execution_count": null,
      "outputs": []
    },
    {
      "cell_type": "code",
      "metadata": {
        "id": "qc5T1YaUvh9V"
      },
      "source": [
        "directories = []\n",
        "categories = []\n",
        "\n",
        "test_filenames = os.listdir('/content/test_fi/')\n",
        "\n",
        "for img in test_filenames:\n",
        "\n",
        "    fileName = img.split('.')[0]\n",
        "    \n",
        "    if '000'  in fileName: categories.append(0)\n",
        "    elif  'COVID-19 '  in fileName: categories.append(1)\n",
        "    elif  'COVID19' in fileName: categories.append(1)\n",
        "    else: categories.append(2)\n",
        "\n",
        "\n",
        "test_df = pd.DataFrame({\n",
        "    'filename': test_filenames,\n",
        "    'category': categories\n",
        "})\n",
        "\n",
        "nb_samples = test_df.shape[0]"
      ],
      "execution_count": null,
      "outputs": []
    },
    {
      "cell_type": "code",
      "metadata": {
        "id": "QK6RYC4_xJBa"
      },
      "source": [
        "test_df = test_df.sample(frac=1).reset_index(drop=True)\n",
        "test_df"
      ],
      "execution_count": null,
      "outputs": []
    },
    {
      "cell_type": "code",
      "metadata": {
        "id": "b7HXnNz4D3E4"
      },
      "source": [
        "test_gen = ImageDataGenerator(rescale = 1./255)\n",
        "test_generator = test_gen.flow_from_dataframe(\n",
        "    \n",
        "    test_df, \n",
        "    '/content/train/', \n",
        "    x_col = 'filename',\n",
        "    y_col = None,\n",
        "    class_mode = None,\n",
        "    target_size = (224,224),\n",
        "    batch_size = 3,\n",
        "    shuffle = False\n",
        ")"
      ],
      "execution_count": null,
      "outputs": []
    },
    {
      "cell_type": "code",
      "metadata": {
        "id": "rJeUGBkI5ac-"
      },
      "source": [
        "batch_size = 3"
      ],
      "execution_count": null,
      "outputs": []
    },
    {
      "cell_type": "markdown",
      "metadata": {
        "id": "HXMXDj5mQjJZ"
      },
      "source": [
        ""
      ]
    },
    {
      "cell_type": "code",
      "metadata": {
        "id": "4GaJQIWYg4E4"
      },
      "source": [
        "predict = model.predict(test_generator, steps = np.ceil(nb_samples/batch_size))"
      ],
      "execution_count": null,
      "outputs": []
    },
    {
      "cell_type": "code",
      "metadata": {
        "id": "8rdW-151i8sX"
      },
      "source": [
        "test_df['category'] = np.argmax(predict, axis=-1)"
      ],
      "execution_count": null,
      "outputs": []
    },
    {
      "cell_type": "code",
      "metadata": {
        "id": "myuKZzwhg7xg"
      },
      "source": [
        "label_map = dict((v,k) for k,v in train_generator.class_indices.items())\n",
        "test_df['category'] = test_df['category'].replace(label_map)"
      ],
      "execution_count": null,
      "outputs": []
    },
    {
      "cell_type": "code",
      "metadata": {
        "id": "U9zVXYPfkmdp"
      },
      "source": [
        "test_df['category'] = test_df['category'].replace({'Normal': 0, 'COVID-19': 1, 'Pneumonia' :2})"
      ],
      "execution_count": null,
      "outputs": []
    },
    {
      "cell_type": "code",
      "metadata": {
        "id": "v25yQeKFkokS"
      },
      "source": [
        "test_df['category'].value_counts().plot.bar()"
      ],
      "execution_count": null,
      "outputs": []
    },
    {
      "cell_type": "code",
      "metadata": {
        "id": "gFUF2Ljvp_x4",
        "scrolled": false
      },
      "source": [
        "sample_test = test_df.head(12)\n",
        "sample_test.head()\n",
        "\n",
        "plt.figure(figsize=(12, 24))\n",
        "\n",
        "for index, row in sample_test.iterrows():\n",
        "    \n",
        "    filename = row['filename']\n",
        "    category = row['category']\n",
        "    \n",
        "    img = load_img( '/content/test_fi/' + filename, target_size=IMAGE_SIZE)\n",
        "    \n",
        "    plt.subplot(6, 3, index+1)\n",
        "    plt.imshow(img)\n",
        "    plt.xlabel(filename + ' Pred: (' + \"{}\".format(category) + ')' )\n",
        "    \n",
        "plt.tight_layout()\n",
        "plt.show()"
      ],
      "execution_count": null,
      "outputs": []
    },
    {
      "cell_type": "code",
      "metadata": {
        "id": "UVMkuHx6p_x4"
      },
      "source": [
        "sample_test = test_df\n",
        "correctPredictions = 0\n",
        "\n",
        "correctNormalPred = 0\n",
        "correctCovidPred = 0\n",
        "correctPneuPred = 0\n",
        "\n",
        "totalNormalPred = 0\n",
        "totalCovidPred = 0\n",
        "totalPneuPred = 0\n",
        "\n",
        "for index, row in sample_test.iterrows():\n",
        "    \n",
        "    filename = row['filename']\n",
        "    prediction = row['category']\n",
        "    \n",
        "    img = load_img('/content/test_fi/' + filename, target_size=IMAGE_SIZE)\n",
        "    \n",
        "    if '000' in filename:\n",
        "        \n",
        "        if prediction == 0:\n",
        "            correctPredictions += 1\n",
        "            correctNormalPred += 1\n",
        "            \n",
        "        totalNormalPred += 1\n",
        "\n",
        "    if '80446' in filename:\n",
        "        \n",
        "        if prediction == 0:\n",
        "            correctPredictions += 1\n",
        "            correctNormalPred += 1\n",
        "            \n",
        "        totalNormalPred += 1\n",
        "    \n",
        "    if 'COVID-19 ' in filename:\n",
        "        \n",
        "        if prediction == 1: \n",
        "            correctPredictions += 1\n",
        "            correctCovidPred += 1\n",
        "            \n",
        "        totalCovidPred += 1\n",
        "\n",
        "    if 'COVID19' in filename:\n",
        "        \n",
        "        if prediction == 1:\n",
        "            correctPredictions += 1\n",
        "            correctCovidPred += 1\n",
        "        \n",
        "        totalCovidPred += 1\n",
        "\n",
        "    if 'F4341CE' in filename:\n",
        "        \n",
        "        if prediction ==2:\n",
        "            correctPredictions += 1\n",
        "            correctPneuPred += 1\n",
        "        \n",
        "        totalPneuPred += 1\n",
        "    \n",
        "    if 'person' in filename:\n",
        "        \n",
        "        if prediction == 2: \n",
        "            correctPredictions += 1\n",
        "            correctPneuPred += 1\n",
        "            \n",
        "        totalPneuPred += 1\n",
        "    "
      ],
      "execution_count": null,
      "outputs": []
    },
    {
      "cell_type": "code",
      "metadata": {
        "id": "8iWwBw6zr5kU"
      },
      "source": [
        "print('Model Accuracy:', \"{:.2%}\".format(correctPredictions / test_df.shape[0]))\n",
        "print('Correct Predictions:', correctPredictions, 'Total Predictions:', test_df.shape[0])\n",
        "\n",
        "print('\\nNormal Predictions:', correctNormalPred, 'Accuracy', \"{:.2%}\".format(correctNormalPred /  totalNormalPred))\n",
        "print('COVID-19 Predictions:', correctCovidPred, 'Accuracy', \"{:.2%}\".format(correctCovidPred /  totalCovidPred))\n",
        "print('Pneumonia Predictions:', correctPneuPred, 'Accuracy', \"{:.2%}\".format(correctPneuPred / totalPneuPred))"
      ],
      "execution_count": null,
      "outputs": []
    },
    {
      "cell_type": "code",
      "metadata": {
        "id": "8rLQsW6TsBfJ"
      },
      "source": [
        "actual = []\n",
        "pred = []\n",
        "\n",
        "for row in test_df.iterrows():\n",
        "    \n",
        "    filename = row[1][0]\n",
        "    \n",
        "    if '000' in filename: actual.append(0)\n",
        "    if 'COVID-19 ' in filename: actual.append(1)\n",
        "    if '80446565-E090-4187-A031-9D3CEAA586C8' in filename: actual.append(0)\n",
        "    if 'F4341CE7-73C9-45C6-99C8-8567A5484B63-1068x1020' in filename: actual.append(2)\n",
        "    if 'COVID19' in filename: actual.append(1)\n",
        "    if 'person' in filename: actual.append(2)\n",
        "        \n",
        "    pred.append(row[1][1])"
      ],
      "execution_count": null,
      "outputs": []
    },
    {
      "cell_type": "code",
      "metadata": {
        "id": "eAmoJ3a4xC38"
      },
      "source": [
        "print(classification_report(actual, pred))"
      ],
      "execution_count": null,
      "outputs": []
    },
    {
      "cell_type": "code",
      "metadata": {
        "id": "5dBexptLCrbB"
      },
      "source": [
        "sns.heatmap(classification_report(actual, pred))"
      ],
      "execution_count": null,
      "outputs": []
    },
    {
      "cell_type": "code",
      "metadata": {
        "id": "yXYSej2oIzx2"
      },
      "source": [
        "# ROC AUC\n",
        "from sklearn.metrics import roc_curve, auc, roc_auc_score\n",
        "from  sklearn.metrics import precision_recall_fscore_support\n",
        "\n",
        "import numpy as np\n",
        "import pandas as pd\n",
        "import matplotlib.pyplot as plt"
      ],
      "execution_count": null,
      "outputs": []
    },
    {
      "cell_type": "code",
      "metadata": {
        "id": "3v0VFbljXsyy"
      },
      "source": [
        "actuals = []\n",
        "probabilities = []"
      ],
      "execution_count": null,
      "outputs": []
    },
    {
      "cell_type": "code",
      "metadata": {
        "id": "cd-Ozh1mI5NK"
      },
      "source": [
        "predicted_probabilities = model.predict_generator(test_generator,\n",
        "                        steps=test_generator.samples/test_generator.batch_size)"
      ],
      "execution_count": null,
      "outputs": []
    },
    {
      "cell_type": "code",
      "metadata": {
        "id": "wooAT_LzJI3_"
      },
      "source": [
        "predicted_probabilities.shape"
      ],
      "execution_count": null,
      "outputs": []
    },
    {
      "cell_type": "code",
      "metadata": {
        "id": "jeko3KENJNqC"
      },
      "source": [
        "predicted_probabilities\n",
        "predicted_probabilities = tf.nn.softmax(predicted_probabilities)"
      ],
      "execution_count": null,
      "outputs": []
    },
    {
      "cell_type": "markdown",
      "metadata": {
        "id": "ZEoGul6NJZWX"
      },
      "source": [
        ""
      ]
    },
    {
      "cell_type": "code",
      "metadata": {
        "id": "r1OwoyKLJVeR"
      },
      "source": [
        "predicted_labels = tf.math.argmax(predicted_probabilities, axis=1).numpy()"
      ],
      "execution_count": null,
      "outputs": []
    },
    {
      "cell_type": "code",
      "metadata": {
        "id": "PVc1pWaGM4Tr"
      },
      "source": [
        "classes = ['normal', 'COVID-19', 'Pneumonia']"
      ],
      "execution_count": null,
      "outputs": []
    },
    {
      "cell_type": "code",
      "metadata": {
        "id": "oSEONxzuM-lg"
      },
      "source": [
        "class_dict ={classes[i]: i for i in range(3)}"
      ],
      "execution_count": null,
      "outputs": []
    },
    {
      "cell_type": "code",
      "metadata": {
        "id": "bc6S_T2ZJV1a"
      },
      "source": [
        "predicted_labels"
      ],
      "execution_count": null,
      "outputs": []
    },
    {
      "cell_type": "code",
      "metadata": {
        "id": "3oCSalPFJlvW"
      },
      "source": [
        "def test_class_probabilities(model,  which_class):\n",
        "    actuals = []\n",
        "    probabilities = []\n",
        "    \n",
        "    predicted_logits = model.predict_generator(test_generator,\n",
        "                        steps=test_generator.samples/test_generator.batch_size)\n",
        "    \n",
        "    #fpr_keras, tpr_keras, thresholds_keras = roc_curve(y_test, predicted_labels)\n",
        "\n",
        "    predicted_probabilities = tf.nn.softmax(predicted_logits)\n",
        "    #print(predicted_probabilities)\n",
        "    #predicted_labels = tf.math.argmax(predicted_probabilities, axis=1).numpy()\n",
        "    \n",
        "    actuals.extend(predicted_labels == which_class)\n",
        "    #probabilities.extend(np.exp(predicted_probabilities[:, which_class]))\n",
        "    probabilities.extend(predicted_probabilities[:, which_class].numpy())\n",
        "    return [i for i in actuals], [i for i in probabilities]"
      ],
      "execution_count": null,
      "outputs": []
    },
    {
      "cell_type": "code",
      "metadata": {
        "id": "7BYf6Z7wKAI-"
      },
      "source": [
        "which_class = 0\n",
        "actuals, class_probabilities = test_class_probabilities(model, which_class)\n",
        "#print(actuals)\n",
        "#print(class_probabilities)\n",
        "fpr, tpr, _ = roc_curve(actuals, class_probabilities)\n",
        "roc_auc = auc(fpr, tpr)\n",
        "plt.figure()\n",
        "lw = 2\n",
        "plt.plot(fpr, tpr, color='darkorange',\n",
        "         lw=lw, label='ROC curve (area = %0.2f)' % roc_auc)\n",
        "plt.plot([0, 1], [0, 1], color='navy', lw=lw, linestyle='--')\n",
        "plt.xlim([0.0, 1.0])\n",
        "plt.ylim([0.0, 1.05])\n",
        "plt.xlabel('False Positive Rate')\n",
        "plt.ylabel('True Positive Rate')\n",
        "plt.title('ROC for normal class')\n",
        "plt.legend(loc=\"lower right\")\n",
        "plt.show()"
      ],
      "execution_count": null,
      "outputs": []
    },
    {
      "cell_type": "code",
      "metadata": {
        "id": "M2vLYjmDWxOh"
      },
      "source": [
        "which_class = 1\n",
        "actuals, class_probabilities = test_class_probabilities(model, which_class)\n",
        "\n",
        "fpr, tpr, _ = roc_curve(actuals, class_probabilities)\n",
        "roc_auc = auc(fpr, tpr)\n",
        "plt.figure()\n",
        "lw = 2\n",
        "plt.plot(fpr, tpr, color='darkorange',\n",
        "         lw=lw, label='ROC curve (area = %0.2f)' % roc_auc)\n",
        "plt.plot([0, 1], [0, 1], color='navy', lw=lw, linestyle='--')\n",
        "plt.xlim([0.0, 1.0])\n",
        "plt.ylim([0.0, 1.05])\n",
        "plt.xlabel('False Positive Rate')\n",
        "plt.ylabel('True Positive Rate')\n",
        "plt.title('ROC for COVID-19 class')\n",
        "plt.legend(loc=\"lower right\")\n",
        "plt.show()"
      ],
      "execution_count": null,
      "outputs": []
    },
    {
      "cell_type": "code",
      "metadata": {
        "id": "RSVMAvkbX3ai"
      },
      "source": [
        "which_class = 2\n",
        "actuals, class_probabilities = test_class_probabilities(model, which_class)\n",
        "\n",
        "fpr, tpr, _ = roc_curve(actuals, class_probabilities)\n",
        "roc_auc = auc(fpr, tpr)\n",
        "plt.figure()\n",
        "lw = 2\n",
        "plt.plot(fpr, tpr, color='darkorange',\n",
        "         lw=lw, label='ROC curve (area = %0.2f)' % roc_auc)\n",
        "plt.plot([0, 1], [0, 1], color='navy', lw=lw, linestyle='--')\n",
        "plt.xlim([0.0, 1.0])\n",
        "plt.ylim([0.0, 1.05])\n",
        "plt.xlabel('False Positive Rate')\n",
        "plt.ylabel('True Positive Rate')\n",
        "plt.title('ROC for COVID-19 class')\n",
        "plt.legend(loc=\"lower right\")\n",
        "plt.show()"
      ],
      "execution_count": null,
      "outputs": []
    },
    {
      "cell_type": "code",
      "metadata": {
        "id": "tuGB203pGYQa"
      },
      "source": [
        "from tensorflow import keras\n",
        "model = keras.models.load_model('model_ml_vg_1.h5')"
      ],
      "execution_count": null,
      "outputs": []
    },
    {
      "cell_type": "code",
      "metadata": {
        "id": "rxU7y8pIGc_t"
      },
      "source": [
        "pip install -I scipy==1.2.*"
      ],
      "execution_count": null,
      "outputs": []
    },
    {
      "cell_type": "code",
      "metadata": {
        "id": "Ts0F-1yu4Z7U"
      },
      "source": [
        "from vis.visualization import visualize_saliency\n",
        "from vis.utils import utils\n",
        "import matplotlib.pyplot as plt\n",
        "import scipy.ndimage as ndimage\n",
        "import numpy as np\n",
        "import cv2\n",
        "from keras import activations"
      ],
      "execution_count": null,
      "outputs": []
    },
    {
      "cell_type": "code",
      "metadata": {
        "id": "NLqX1ZUeyLm2"
      },
      "source": [
        ""
      ],
      "execution_count": null,
      "outputs": []
    },
    {
      "cell_type": "code",
      "metadata": {
        "id": "S7ljgNkoqr6k"
      },
      "source": [
        ""
      ],
      "execution_count": null,
      "outputs": []
    },
    {
      "cell_type": "code",
      "metadata": {
        "id": "PnlxXmeHKPLi"
      },
      "source": [
        ""
      ],
      "execution_count": null,
      "outputs": []
    }
  ]
}